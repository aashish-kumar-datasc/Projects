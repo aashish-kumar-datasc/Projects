{
 "cells": [
  {
   "cell_type": "code",
   "execution_count": 61,
   "id": "0645f805",
   "metadata": {},
   "outputs": [],
   "source": [
    "#Importing neccessary modules\n",
    "\n",
    "import pandas as pd\n",
    "import matplotlib.pyplot as plt\n",
    "import seaborn as sns\n",
    "import numpy as np\n",
    "from sklearn.linear_model import LinearRegression\n",
    "from sklearn.model_selection import train_test_split,cross_val_score\n",
    "from sklearn.metrics import accuracy_score,precision_score\n",
    "%matplotlib inline"
   ]
  },
  {
   "cell_type": "markdown",
   "id": "72d9e0cb",
   "metadata": {},
   "source": [
    "## Data Preprocessing and Exploration"
   ]
  },
  {
   "cell_type": "code",
   "execution_count": 62,
   "id": "00c80ac5",
   "metadata": {},
   "outputs": [],
   "source": [
    "data = pd.read_csv(\"DATA_COLLECTION_SHEET.csv\")"
   ]
  },
  {
   "cell_type": "code",
   "execution_count": 63,
   "id": "5ad87a03",
   "metadata": {},
   "outputs": [
    {
     "data": {
      "text/html": [
       "<div>\n",
       "<style scoped>\n",
       "    .dataframe tbody tr th:only-of-type {\n",
       "        vertical-align: middle;\n",
       "    }\n",
       "\n",
       "    .dataframe tbody tr th {\n",
       "        vertical-align: top;\n",
       "    }\n",
       "\n",
       "    .dataframe thead th {\n",
       "        text-align: right;\n",
       "    }\n",
       "</style>\n",
       "<table border=\"1\" class=\"dataframe\">\n",
       "  <thead>\n",
       "    <tr style=\"text-align: right;\">\n",
       "      <th></th>\n",
       "      <th>NAME of Responder</th>\n",
       "      <th>NUMBER OF MEMBERS IN HOUSEHOLD</th>\n",
       "      <th>AVG HOUSEHOLD INCOME</th>\n",
       "      <th>HOUSE ADDRESS</th>\n",
       "      <th>AGE OF MEMBERS</th>\n",
       "      <th>MALE MEMBERS</th>\n",
       "      <th>FEMALE MEMBERS</th>\n",
       "      <th>NO. OF CHILDREN</th>\n",
       "      <th>STUDYING CHILDREN</th>\n",
       "      <th>NON STUDYING CHILDREN</th>\n",
       "      <th>FOOD CONSUMPTION PATTERNS</th>\n",
       "      <th>EXPENDITURES</th>\n",
       "      <th>HOUSEHOLD ASSETS</th>\n",
       "      <th>SOURCES OF WATER</th>\n",
       "      <th>AVAILABILITY OF SMART DEVICES</th>\n",
       "      <th>ACCESS TO INTERNET</th>\n",
       "      <th>ANY PREDOMINANT AILMENT</th>\n",
       "    </tr>\n",
       "  </thead>\n",
       "  <tbody>\n",
       "    <tr>\n",
       "      <th>0</th>\n",
       "      <td>Sanjay Goswami</td>\n",
       "      <td>4</td>\n",
       "      <td>105000</td>\n",
       "      <td>Barrackpore, West Bengal, India</td>\n",
       "      <td>44.5</td>\n",
       "      <td>2</td>\n",
       "      <td>2</td>\n",
       "      <td>0</td>\n",
       "      <td>0</td>\n",
       "      <td>0</td>\n",
       "      <td>NonVeg</td>\n",
       "      <td>65000</td>\n",
       "      <td>TV, FRIDGE, AC, WM, 2W</td>\n",
       "      <td>DeepTW</td>\n",
       "      <td>Computer, Laptop, SmartPhone</td>\n",
       "      <td>Yes</td>\n",
       "      <td>Type-1 Diabetes</td>\n",
       "    </tr>\n",
       "    <tr>\n",
       "      <th>1</th>\n",
       "      <td>Debmalya Halder</td>\n",
       "      <td>3</td>\n",
       "      <td>75000</td>\n",
       "      <td>Shibpur, Howrah, West Bengal, India</td>\n",
       "      <td>35.5</td>\n",
       "      <td>2</td>\n",
       "      <td>1</td>\n",
       "      <td>1</td>\n",
       "      <td>1</td>\n",
       "      <td>1</td>\n",
       "      <td>NonVeg</td>\n",
       "      <td>45000</td>\n",
       "      <td>TV, AC, FRIDGE, WM, 4W</td>\n",
       "      <td>DeepTW</td>\n",
       "      <td>Computer, Smartphone</td>\n",
       "      <td>Yes</td>\n",
       "      <td>NaN</td>\n",
       "    </tr>\n",
       "    <tr>\n",
       "      <th>2</th>\n",
       "      <td>Majid Mallik</td>\n",
       "      <td>3</td>\n",
       "      <td>40000</td>\n",
       "      <td>Dum Dum</td>\n",
       "      <td>40</td>\n",
       "      <td>2</td>\n",
       "      <td>1</td>\n",
       "      <td>0</td>\n",
       "      <td>0</td>\n",
       "      <td>0</td>\n",
       "      <td>NonVeg</td>\n",
       "      <td>35000</td>\n",
       "      <td>TV, FRIDGE, WM</td>\n",
       "      <td>Tap</td>\n",
       "      <td>Laptop, Smartphone</td>\n",
       "      <td>Yes</td>\n",
       "      <td>Type-2 Diabetes</td>\n",
       "    </tr>\n",
       "    <tr>\n",
       "      <th>3</th>\n",
       "      <td>Malabika Ghosh</td>\n",
       "      <td>10</td>\n",
       "      <td>100000</td>\n",
       "      <td>Bagnan, Howrah, West Bengal.</td>\n",
       "      <td>38.5</td>\n",
       "      <td>5</td>\n",
       "      <td>5</td>\n",
       "      <td>3</td>\n",
       "      <td>3</td>\n",
       "      <td>0</td>\n",
       "      <td>Non-veg</td>\n",
       "      <td>60000</td>\n",
       "      <td>TV, FRIDGE, WM, 2W, Geyser, kitchen chimney</td>\n",
       "      <td>Tap</td>\n",
       "      <td>Computer, Laptop, Smartphone</td>\n",
       "      <td>Yes</td>\n",
       "      <td>Diabetes</td>\n",
       "    </tr>\n",
       "    <tr>\n",
       "      <th>4</th>\n",
       "      <td>Arpita Chaudhury</td>\n",
       "      <td>4</td>\n",
       "      <td>100000</td>\n",
       "      <td>Sakherbazar Behala , West Bengal</td>\n",
       "      <td>34.5</td>\n",
       "      <td>2</td>\n",
       "      <td>2</td>\n",
       "      <td>2</td>\n",
       "      <td>2</td>\n",
       "      <td>0</td>\n",
       "      <td>Non veg</td>\n",
       "      <td>50000</td>\n",
       "      <td>TV AC WM FRIDGE 4W</td>\n",
       "      <td>Tap</td>\n",
       "      <td>Laptop smartphone</td>\n",
       "      <td>Yes</td>\n",
       "      <td>NaN</td>\n",
       "    </tr>\n",
       "  </tbody>\n",
       "</table>\n",
       "</div>"
      ],
      "text/plain": [
       "  NAME of Responder  NUMBER OF MEMBERS IN HOUSEHOLD AVG HOUSEHOLD INCOME  \\\n",
       "0    Sanjay Goswami                               4               105000   \n",
       "1   Debmalya Halder                               3                75000   \n",
       "2      Majid Mallik                               3                40000   \n",
       "3    Malabika Ghosh                              10               100000   \n",
       "4  Arpita Chaudhury                               4               100000   \n",
       "\n",
       "                         HOUSE ADDRESS AGE OF MEMBERS  MALE MEMBERS  \\\n",
       "0      Barrackpore, West Bengal, India           44.5             2   \n",
       "1  Shibpur, Howrah, West Bengal, India           35.5             2   \n",
       "2                              Dum Dum             40             2   \n",
       "3         Bagnan, Howrah, West Bengal.           38.5             5   \n",
       "4     Sakherbazar Behala , West Bengal           34.5             2   \n",
       "\n",
       "   FEMALE MEMBERS  NO. OF CHILDREN  STUDYING CHILDREN  NON STUDYING CHILDREN  \\\n",
       "0               2                0                  0                      0   \n",
       "1               1                1                  1                      1   \n",
       "2               1                0                  0                      0   \n",
       "3               5                3                  3                      0   \n",
       "4               2                2                  2                      0   \n",
       "\n",
       "  FOOD CONSUMPTION PATTERNS EXPENDITURES  \\\n",
       "0                    NonVeg        65000   \n",
       "1                    NonVeg        45000   \n",
       "2                    NonVeg        35000   \n",
       "3                   Non-veg        60000   \n",
       "4                   Non veg        50000   \n",
       "\n",
       "                              HOUSEHOLD ASSETS SOURCES OF WATER  \\\n",
       "0                       TV, FRIDGE, AC, WM, 2W           DeepTW   \n",
       "1                       TV, AC, FRIDGE, WM, 4W           DeepTW   \n",
       "2                               TV, FRIDGE, WM              Tap   \n",
       "3  TV, FRIDGE, WM, 2W, Geyser, kitchen chimney              Tap   \n",
       "4                           TV AC WM FRIDGE 4W              Tap   \n",
       "\n",
       "  AVAILABILITY OF SMART DEVICES ACCESS TO INTERNET ANY PREDOMINANT AILMENT  \n",
       "0  Computer, Laptop, SmartPhone                Yes         Type-1 Diabetes  \n",
       "1          Computer, Smartphone                Yes                     NaN  \n",
       "2            Laptop, Smartphone                Yes         Type-2 Diabetes  \n",
       "3  Computer, Laptop, Smartphone                Yes                Diabetes  \n",
       "4             Laptop smartphone                Yes                     NaN  "
      ]
     },
     "execution_count": 63,
     "metadata": {},
     "output_type": "execute_result"
    }
   ],
   "source": [
    "data.head()"
   ]
  },
  {
   "cell_type": "code",
   "execution_count": 64,
   "id": "b3515f2c",
   "metadata": {},
   "outputs": [
    {
     "data": {
      "text/html": [
       "<div>\n",
       "<style scoped>\n",
       "    .dataframe tbody tr th:only-of-type {\n",
       "        vertical-align: middle;\n",
       "    }\n",
       "\n",
       "    .dataframe tbody tr th {\n",
       "        vertical-align: top;\n",
       "    }\n",
       "\n",
       "    .dataframe thead th {\n",
       "        text-align: right;\n",
       "    }\n",
       "</style>\n",
       "<table border=\"1\" class=\"dataframe\">\n",
       "  <thead>\n",
       "    <tr style=\"text-align: right;\">\n",
       "      <th></th>\n",
       "      <th>NUMBER OF MEMBERS IN HOUSEHOLD</th>\n",
       "      <th>MALE MEMBERS</th>\n",
       "      <th>FEMALE MEMBERS</th>\n",
       "      <th>NO. OF CHILDREN</th>\n",
       "      <th>STUDYING CHILDREN</th>\n",
       "      <th>NON STUDYING CHILDREN</th>\n",
       "    </tr>\n",
       "  </thead>\n",
       "  <tbody>\n",
       "    <tr>\n",
       "      <th>count</th>\n",
       "      <td>173.000000</td>\n",
       "      <td>173.000000</td>\n",
       "      <td>173.000000</td>\n",
       "      <td>173.000000</td>\n",
       "      <td>173.000000</td>\n",
       "      <td>173.000000</td>\n",
       "    </tr>\n",
       "    <tr>\n",
       "      <th>mean</th>\n",
       "      <td>3.907514</td>\n",
       "      <td>1.988439</td>\n",
       "      <td>1.913295</td>\n",
       "      <td>1.063584</td>\n",
       "      <td>1.028902</td>\n",
       "      <td>0.144509</td>\n",
       "    </tr>\n",
       "    <tr>\n",
       "      <th>std</th>\n",
       "      <td>1.729565</td>\n",
       "      <td>1.028594</td>\n",
       "      <td>1.033450</td>\n",
       "      <td>0.995048</td>\n",
       "      <td>0.924019</td>\n",
       "      <td>0.368745</td>\n",
       "    </tr>\n",
       "    <tr>\n",
       "      <th>min</th>\n",
       "      <td>1.000000</td>\n",
       "      <td>0.000000</td>\n",
       "      <td>0.000000</td>\n",
       "      <td>0.000000</td>\n",
       "      <td>0.000000</td>\n",
       "      <td>0.000000</td>\n",
       "    </tr>\n",
       "    <tr>\n",
       "      <th>25%</th>\n",
       "      <td>3.000000</td>\n",
       "      <td>1.000000</td>\n",
       "      <td>1.000000</td>\n",
       "      <td>0.000000</td>\n",
       "      <td>0.000000</td>\n",
       "      <td>0.000000</td>\n",
       "    </tr>\n",
       "    <tr>\n",
       "      <th>50%</th>\n",
       "      <td>4.000000</td>\n",
       "      <td>2.000000</td>\n",
       "      <td>2.000000</td>\n",
       "      <td>1.000000</td>\n",
       "      <td>1.000000</td>\n",
       "      <td>0.000000</td>\n",
       "    </tr>\n",
       "    <tr>\n",
       "      <th>75%</th>\n",
       "      <td>5.000000</td>\n",
       "      <td>2.000000</td>\n",
       "      <td>2.000000</td>\n",
       "      <td>2.000000</td>\n",
       "      <td>2.000000</td>\n",
       "      <td>0.000000</td>\n",
       "    </tr>\n",
       "    <tr>\n",
       "      <th>max</th>\n",
       "      <td>10.000000</td>\n",
       "      <td>6.000000</td>\n",
       "      <td>5.000000</td>\n",
       "      <td>5.000000</td>\n",
       "      <td>5.000000</td>\n",
       "      <td>2.000000</td>\n",
       "    </tr>\n",
       "  </tbody>\n",
       "</table>\n",
       "</div>"
      ],
      "text/plain": [
       "       NUMBER OF MEMBERS IN HOUSEHOLD  MALE MEMBERS  FEMALE MEMBERS  \\\n",
       "count                      173.000000    173.000000      173.000000   \n",
       "mean                         3.907514      1.988439        1.913295   \n",
       "std                          1.729565      1.028594        1.033450   \n",
       "min                          1.000000      0.000000        0.000000   \n",
       "25%                          3.000000      1.000000        1.000000   \n",
       "50%                          4.000000      2.000000        2.000000   \n",
       "75%                          5.000000      2.000000        2.000000   \n",
       "max                         10.000000      6.000000        5.000000   \n",
       "\n",
       "       NO. OF CHILDREN  STUDYING CHILDREN  NON STUDYING CHILDREN  \n",
       "count       173.000000         173.000000             173.000000  \n",
       "mean          1.063584           1.028902               0.144509  \n",
       "std           0.995048           0.924019               0.368745  \n",
       "min           0.000000           0.000000               0.000000  \n",
       "25%           0.000000           0.000000               0.000000  \n",
       "50%           1.000000           1.000000               0.000000  \n",
       "75%           2.000000           2.000000               0.000000  \n",
       "max           5.000000           5.000000               2.000000  "
      ]
     },
     "execution_count": 64,
     "metadata": {},
     "output_type": "execute_result"
    }
   ],
   "source": [
    "data.describe()\n",
    "#Avg family members = 4\n",
    "# Avg male members = 2\n",
    "# Avg female members = 2\n",
    "# Avg no of children = 1\n"
   ]
  },
  {
   "cell_type": "code",
   "execution_count": 65,
   "id": "81dcff7c",
   "metadata": {},
   "outputs": [
    {
     "name": "stdout",
     "output_type": "stream",
     "text": [
      "<class 'pandas.core.frame.DataFrame'>\n",
      "RangeIndex: 173 entries, 0 to 172\n",
      "Data columns (total 17 columns):\n",
      " #   Column                          Non-Null Count  Dtype \n",
      "---  ------                          --------------  ----- \n",
      " 0   NAME of Responder               173 non-null    object\n",
      " 1   NUMBER OF MEMBERS IN HOUSEHOLD  173 non-null    int64 \n",
      " 2   AVG HOUSEHOLD INCOME            173 non-null    object\n",
      " 3   HOUSE ADDRESS                   173 non-null    object\n",
      " 4   AGE OF MEMBERS                  173 non-null    object\n",
      " 5   MALE MEMBERS                    173 non-null    int64 \n",
      " 6   FEMALE MEMBERS                  173 non-null    int64 \n",
      " 7   NO. OF CHILDREN                 173 non-null    int64 \n",
      " 8   STUDYING CHILDREN               173 non-null    int64 \n",
      " 9   NON STUDYING CHILDREN           173 non-null    int64 \n",
      " 10  FOOD CONSUMPTION PATTERNS       171 non-null    object\n",
      " 11  EXPENDITURES                    172 non-null    object\n",
      " 12  HOUSEHOLD ASSETS                173 non-null    object\n",
      " 13  SOURCES OF WATER                172 non-null    object\n",
      " 14  AVAILABILITY OF SMART DEVICES   173 non-null    object\n",
      " 15  ACCESS TO INTERNET              173 non-null    object\n",
      " 16  ANY PREDOMINANT AILMENT         145 non-null    object\n",
      "dtypes: int64(6), object(11)\n",
      "memory usage: 23.1+ KB\n"
     ]
    }
   ],
   "source": [
    "data.info()\n",
    "#Total No of entries in the dataset 173\n",
    "#Some of the columns have missing value\n",
    "#predominant ailment has the maximum missing values\n",
    "\n",
    "#Age of members,Expenditure,Avg household income is of wrong datatype\n"
   ]
  },
  {
   "cell_type": "code",
   "execution_count": 66,
   "id": "fdebdb66",
   "metadata": {},
   "outputs": [
    {
     "data": {
      "text/plain": [
       "NAME of Responder                  0\n",
       "NUMBER OF MEMBERS IN HOUSEHOLD     0\n",
       "AVG HOUSEHOLD INCOME               0\n",
       "HOUSE ADDRESS                      0\n",
       "AGE OF MEMBERS                     0\n",
       "MALE MEMBERS                       0\n",
       "FEMALE MEMBERS                     0\n",
       "NO. OF CHILDREN                    0\n",
       "STUDYING CHILDREN                  0\n",
       "NON STUDYING CHILDREN              0\n",
       "FOOD CONSUMPTION PATTERNS          2\n",
       "EXPENDITURES                       1\n",
       "HOUSEHOLD ASSETS                   0\n",
       "SOURCES OF WATER                   1\n",
       "AVAILABILITY OF SMART DEVICES      0\n",
       "ACCESS TO INTERNET                 0\n",
       "ANY PREDOMINANT AILMENT           28\n",
       "dtype: int64"
      ]
     },
     "execution_count": 66,
     "metadata": {},
     "output_type": "execute_result"
    }
   ],
   "source": [
    "data.isna().sum()\n",
    "#predominant ailment has 28 null values"
   ]
  },
  {
   "cell_type": "code",
   "execution_count": 67,
   "id": "6ef1d19d",
   "metadata": {},
   "outputs": [],
   "source": [
    "def get_mean(x):\n",
    "    #split into list of strings\n",
    "    splited = x.split(',')\n",
    "    #Transform into numbers\n",
    "    y = [float(n) for n in splited]\n",
    "    return sum(y)/len(y)\n",
    "    "
   ]
  },
  {
   "cell_type": "code",
   "execution_count": 68,
   "id": "70e65845",
   "metadata": {},
   "outputs": [],
   "source": [
    "data['AGE OF MEMBERS'] = data['AGE OF MEMBERS'].apply(get_mean)"
   ]
  },
  {
   "cell_type": "code",
   "execution_count": 69,
   "id": "ccf8313f",
   "metadata": {},
   "outputs": [
    {
     "name": "stdout",
     "output_type": "stream",
     "text": [
      "<class 'pandas.core.frame.DataFrame'>\n",
      "RangeIndex: 173 entries, 0 to 172\n",
      "Data columns (total 17 columns):\n",
      " #   Column                          Non-Null Count  Dtype  \n",
      "---  ------                          --------------  -----  \n",
      " 0   NAME of Responder               173 non-null    object \n",
      " 1   NUMBER OF MEMBERS IN HOUSEHOLD  173 non-null    int64  \n",
      " 2   AVG HOUSEHOLD INCOME            173 non-null    object \n",
      " 3   HOUSE ADDRESS                   173 non-null    object \n",
      " 4   AGE OF MEMBERS                  173 non-null    float64\n",
      " 5   MALE MEMBERS                    173 non-null    int64  \n",
      " 6   FEMALE MEMBERS                  173 non-null    int64  \n",
      " 7   NO. OF CHILDREN                 173 non-null    int64  \n",
      " 8   STUDYING CHILDREN               173 non-null    int64  \n",
      " 9   NON STUDYING CHILDREN           173 non-null    int64  \n",
      " 10  FOOD CONSUMPTION PATTERNS       171 non-null    object \n",
      " 11  EXPENDITURES                    172 non-null    object \n",
      " 12  HOUSEHOLD ASSETS                173 non-null    object \n",
      " 13  SOURCES OF WATER                172 non-null    object \n",
      " 14  AVAILABILITY OF SMART DEVICES   173 non-null    object \n",
      " 15  ACCESS TO INTERNET              173 non-null    object \n",
      " 16  ANY PREDOMINANT AILMENT         145 non-null    object \n",
      "dtypes: float64(1), int64(6), object(10)\n",
      "memory usage: 23.1+ KB\n"
     ]
    }
   ],
   "source": [
    "data.info()\n",
    "#No the datatype of AGE OF MEMBERS is float64"
   ]
  },
  {
   "cell_type": "code",
   "execution_count": 70,
   "id": "be588f0c",
   "metadata": {},
   "outputs": [
    {
     "data": {
      "text/plain": [
       "0      44.500000\n",
       "1      35.500000\n",
       "2      40.000000\n",
       "3      38.500000\n",
       "4      34.500000\n",
       "         ...    \n",
       "168    44.500000\n",
       "169    27.000000\n",
       "170    32.500000\n",
       "171    41.571429\n",
       "172    32.000000\n",
       "Name: AGE OF MEMBERS, Length: 173, dtype: float64"
      ]
     },
     "execution_count": 70,
     "metadata": {},
     "output_type": "execute_result"
    }
   ],
   "source": [
    "data['AGE OF MEMBERS']\n",
    "# Converted all the comma separated values by doing their sum and obtained there mean values"
   ]
  },
  {
   "cell_type": "code",
   "execution_count": 71,
   "id": "ee88ada3",
   "metadata": {},
   "outputs": [],
   "source": [
    "Food_pattern = data.groupby('FOOD CONSUMPTION PATTERNS')"
   ]
  },
  {
   "cell_type": "code",
   "execution_count": 72,
   "id": "6b7c28e4",
   "metadata": {},
   "outputs": [
    {
     "data": {
      "text/html": [
       "<div>\n",
       "<style scoped>\n",
       "    .dataframe tbody tr th:only-of-type {\n",
       "        vertical-align: middle;\n",
       "    }\n",
       "\n",
       "    .dataframe tbody tr th {\n",
       "        vertical-align: top;\n",
       "    }\n",
       "\n",
       "    .dataframe thead tr th {\n",
       "        text-align: left;\n",
       "    }\n",
       "\n",
       "    .dataframe thead tr:last-of-type th {\n",
       "        text-align: right;\n",
       "    }\n",
       "</style>\n",
       "<table border=\"1\" class=\"dataframe\">\n",
       "  <thead>\n",
       "    <tr>\n",
       "      <th></th>\n",
       "      <th colspan=\"8\" halign=\"left\">NUMBER OF MEMBERS IN HOUSEHOLD</th>\n",
       "      <th colspan=\"2\" halign=\"left\">AGE OF MEMBERS</th>\n",
       "      <th>...</th>\n",
       "      <th colspan=\"2\" halign=\"left\">STUDYING CHILDREN</th>\n",
       "      <th colspan=\"8\" halign=\"left\">NON STUDYING CHILDREN</th>\n",
       "    </tr>\n",
       "    <tr>\n",
       "      <th></th>\n",
       "      <th>count</th>\n",
       "      <th>mean</th>\n",
       "      <th>std</th>\n",
       "      <th>min</th>\n",
       "      <th>25%</th>\n",
       "      <th>50%</th>\n",
       "      <th>75%</th>\n",
       "      <th>max</th>\n",
       "      <th>count</th>\n",
       "      <th>mean</th>\n",
       "      <th>...</th>\n",
       "      <th>75%</th>\n",
       "      <th>max</th>\n",
       "      <th>count</th>\n",
       "      <th>mean</th>\n",
       "      <th>std</th>\n",
       "      <th>min</th>\n",
       "      <th>25%</th>\n",
       "      <th>50%</th>\n",
       "      <th>75%</th>\n",
       "      <th>max</th>\n",
       "    </tr>\n",
       "    <tr>\n",
       "      <th>FOOD CONSUMPTION PATTERNS</th>\n",
       "      <th></th>\n",
       "      <th></th>\n",
       "      <th></th>\n",
       "      <th></th>\n",
       "      <th></th>\n",
       "      <th></th>\n",
       "      <th></th>\n",
       "      <th></th>\n",
       "      <th></th>\n",
       "      <th></th>\n",
       "      <th></th>\n",
       "      <th></th>\n",
       "      <th></th>\n",
       "      <th></th>\n",
       "      <th></th>\n",
       "      <th></th>\n",
       "      <th></th>\n",
       "      <th></th>\n",
       "      <th></th>\n",
       "      <th></th>\n",
       "      <th></th>\n",
       "    </tr>\n",
       "  </thead>\n",
       "  <tbody>\n",
       "    <tr>\n",
       "      <th>NON VEG</th>\n",
       "      <td>13.0</td>\n",
       "      <td>4.846154</td>\n",
       "      <td>1.625123</td>\n",
       "      <td>3.0</td>\n",
       "      <td>3.00</td>\n",
       "      <td>5.0</td>\n",
       "      <td>6.00</td>\n",
       "      <td>7.0</td>\n",
       "      <td>13.0</td>\n",
       "      <td>39.769231</td>\n",
       "      <td>...</td>\n",
       "      <td>2.00</td>\n",
       "      <td>3.0</td>\n",
       "      <td>13.0</td>\n",
       "      <td>0.307692</td>\n",
       "      <td>0.480384</td>\n",
       "      <td>0.0</td>\n",
       "      <td>0.00</td>\n",
       "      <td>0.0</td>\n",
       "      <td>1.00</td>\n",
       "      <td>1.0</td>\n",
       "    </tr>\n",
       "    <tr>\n",
       "      <th>Non Veg</th>\n",
       "      <td>27.0</td>\n",
       "      <td>4.185185</td>\n",
       "      <td>2.000712</td>\n",
       "      <td>1.0</td>\n",
       "      <td>3.00</td>\n",
       "      <td>4.0</td>\n",
       "      <td>5.50</td>\n",
       "      <td>10.0</td>\n",
       "      <td>27.0</td>\n",
       "      <td>46.635802</td>\n",
       "      <td>...</td>\n",
       "      <td>2.00</td>\n",
       "      <td>5.0</td>\n",
       "      <td>27.0</td>\n",
       "      <td>0.333333</td>\n",
       "      <td>0.554700</td>\n",
       "      <td>0.0</td>\n",
       "      <td>0.00</td>\n",
       "      <td>0.0</td>\n",
       "      <td>1.00</td>\n",
       "      <td>2.0</td>\n",
       "    </tr>\n",
       "    <tr>\n",
       "      <th>Non Vegetarian</th>\n",
       "      <td>8.0</td>\n",
       "      <td>4.000000</td>\n",
       "      <td>1.690309</td>\n",
       "      <td>2.0</td>\n",
       "      <td>2.75</td>\n",
       "      <td>4.0</td>\n",
       "      <td>5.00</td>\n",
       "      <td>7.0</td>\n",
       "      <td>8.0</td>\n",
       "      <td>42.786012</td>\n",
       "      <td>...</td>\n",
       "      <td>1.25</td>\n",
       "      <td>2.0</td>\n",
       "      <td>8.0</td>\n",
       "      <td>0.125000</td>\n",
       "      <td>0.353553</td>\n",
       "      <td>0.0</td>\n",
       "      <td>0.00</td>\n",
       "      <td>0.0</td>\n",
       "      <td>0.00</td>\n",
       "      <td>1.0</td>\n",
       "    </tr>\n",
       "    <tr>\n",
       "      <th>Non veg</th>\n",
       "      <td>80.0</td>\n",
       "      <td>3.712500</td>\n",
       "      <td>1.780298</td>\n",
       "      <td>1.0</td>\n",
       "      <td>3.00</td>\n",
       "      <td>3.0</td>\n",
       "      <td>4.00</td>\n",
       "      <td>10.0</td>\n",
       "      <td>80.0</td>\n",
       "      <td>39.543750</td>\n",
       "      <td>...</td>\n",
       "      <td>2.00</td>\n",
       "      <td>4.0</td>\n",
       "      <td>80.0</td>\n",
       "      <td>0.100000</td>\n",
       "      <td>0.301893</td>\n",
       "      <td>0.0</td>\n",
       "      <td>0.00</td>\n",
       "      <td>0.0</td>\n",
       "      <td>0.00</td>\n",
       "      <td>1.0</td>\n",
       "    </tr>\n",
       "    <tr>\n",
       "      <th>Non- Veg</th>\n",
       "      <td>10.0</td>\n",
       "      <td>3.600000</td>\n",
       "      <td>1.173788</td>\n",
       "      <td>2.0</td>\n",
       "      <td>3.00</td>\n",
       "      <td>3.5</td>\n",
       "      <td>4.75</td>\n",
       "      <td>5.0</td>\n",
       "      <td>10.0</td>\n",
       "      <td>46.300000</td>\n",
       "      <td>...</td>\n",
       "      <td>1.00</td>\n",
       "      <td>2.0</td>\n",
       "      <td>10.0</td>\n",
       "      <td>0.100000</td>\n",
       "      <td>0.316228</td>\n",
       "      <td>0.0</td>\n",
       "      <td>0.00</td>\n",
       "      <td>0.0</td>\n",
       "      <td>0.00</td>\n",
       "      <td>1.0</td>\n",
       "    </tr>\n",
       "    <tr>\n",
       "      <th>Non-Veg</th>\n",
       "      <td>5.0</td>\n",
       "      <td>3.200000</td>\n",
       "      <td>1.483240</td>\n",
       "      <td>1.0</td>\n",
       "      <td>3.00</td>\n",
       "      <td>3.0</td>\n",
       "      <td>4.00</td>\n",
       "      <td>5.0</td>\n",
       "      <td>5.0</td>\n",
       "      <td>33.150000</td>\n",
       "      <td>...</td>\n",
       "      <td>1.00</td>\n",
       "      <td>1.0</td>\n",
       "      <td>5.0</td>\n",
       "      <td>0.000000</td>\n",
       "      <td>0.000000</td>\n",
       "      <td>0.0</td>\n",
       "      <td>0.00</td>\n",
       "      <td>0.0</td>\n",
       "      <td>0.00</td>\n",
       "      <td>0.0</td>\n",
       "    </tr>\n",
       "    <tr>\n",
       "      <th>Non-veg</th>\n",
       "      <td>3.0</td>\n",
       "      <td>5.666667</td>\n",
       "      <td>3.785939</td>\n",
       "      <td>3.0</td>\n",
       "      <td>3.50</td>\n",
       "      <td>4.0</td>\n",
       "      <td>7.00</td>\n",
       "      <td>10.0</td>\n",
       "      <td>3.0</td>\n",
       "      <td>45.500000</td>\n",
       "      <td>...</td>\n",
       "      <td>2.00</td>\n",
       "      <td>3.0</td>\n",
       "      <td>3.0</td>\n",
       "      <td>0.000000</td>\n",
       "      <td>0.000000</td>\n",
       "      <td>0.0</td>\n",
       "      <td>0.00</td>\n",
       "      <td>0.0</td>\n",
       "      <td>0.00</td>\n",
       "      <td>0.0</td>\n",
       "    </tr>\n",
       "    <tr>\n",
       "      <th>NonVeg</th>\n",
       "      <td>3.0</td>\n",
       "      <td>3.333333</td>\n",
       "      <td>0.577350</td>\n",
       "      <td>3.0</td>\n",
       "      <td>3.00</td>\n",
       "      <td>3.0</td>\n",
       "      <td>3.50</td>\n",
       "      <td>4.0</td>\n",
       "      <td>3.0</td>\n",
       "      <td>40.000000</td>\n",
       "      <td>...</td>\n",
       "      <td>0.50</td>\n",
       "      <td>1.0</td>\n",
       "      <td>3.0</td>\n",
       "      <td>0.333333</td>\n",
       "      <td>0.577350</td>\n",
       "      <td>0.0</td>\n",
       "      <td>0.00</td>\n",
       "      <td>0.0</td>\n",
       "      <td>0.50</td>\n",
       "      <td>1.0</td>\n",
       "    </tr>\n",
       "    <tr>\n",
       "      <th>Nonveg</th>\n",
       "      <td>2.0</td>\n",
       "      <td>5.000000</td>\n",
       "      <td>2.828427</td>\n",
       "      <td>3.0</td>\n",
       "      <td>4.00</td>\n",
       "      <td>5.0</td>\n",
       "      <td>6.00</td>\n",
       "      <td>7.0</td>\n",
       "      <td>2.0</td>\n",
       "      <td>47.500000</td>\n",
       "      <td>...</td>\n",
       "      <td>1.50</td>\n",
       "      <td>2.0</td>\n",
       "      <td>2.0</td>\n",
       "      <td>0.000000</td>\n",
       "      <td>0.000000</td>\n",
       "      <td>0.0</td>\n",
       "      <td>0.00</td>\n",
       "      <td>0.0</td>\n",
       "      <td>0.00</td>\n",
       "      <td>0.0</td>\n",
       "    </tr>\n",
       "    <tr>\n",
       "      <th>VEG</th>\n",
       "      <td>2.0</td>\n",
       "      <td>5.000000</td>\n",
       "      <td>1.414214</td>\n",
       "      <td>4.0</td>\n",
       "      <td>4.50</td>\n",
       "      <td>5.0</td>\n",
       "      <td>5.50</td>\n",
       "      <td>6.0</td>\n",
       "      <td>2.0</td>\n",
       "      <td>39.500000</td>\n",
       "      <td>...</td>\n",
       "      <td>1.75</td>\n",
       "      <td>2.0</td>\n",
       "      <td>2.0</td>\n",
       "      <td>0.500000</td>\n",
       "      <td>0.707107</td>\n",
       "      <td>0.0</td>\n",
       "      <td>0.25</td>\n",
       "      <td>0.5</td>\n",
       "      <td>0.75</td>\n",
       "      <td>1.0</td>\n",
       "    </tr>\n",
       "    <tr>\n",
       "      <th>Veg</th>\n",
       "      <td>16.0</td>\n",
       "      <td>3.562500</td>\n",
       "      <td>0.813941</td>\n",
       "      <td>2.0</td>\n",
       "      <td>3.00</td>\n",
       "      <td>4.0</td>\n",
       "      <td>4.00</td>\n",
       "      <td>5.0</td>\n",
       "      <td>16.0</td>\n",
       "      <td>40.036458</td>\n",
       "      <td>...</td>\n",
       "      <td>1.25</td>\n",
       "      <td>3.0</td>\n",
       "      <td>16.0</td>\n",
       "      <td>0.000000</td>\n",
       "      <td>0.000000</td>\n",
       "      <td>0.0</td>\n",
       "      <td>0.00</td>\n",
       "      <td>0.0</td>\n",
       "      <td>0.00</td>\n",
       "      <td>0.0</td>\n",
       "    </tr>\n",
       "    <tr>\n",
       "      <th>Vegetarian</th>\n",
       "      <td>2.0</td>\n",
       "      <td>3.500000</td>\n",
       "      <td>0.707107</td>\n",
       "      <td>3.0</td>\n",
       "      <td>3.25</td>\n",
       "      <td>3.5</td>\n",
       "      <td>3.75</td>\n",
       "      <td>4.0</td>\n",
       "      <td>2.0</td>\n",
       "      <td>39.250000</td>\n",
       "      <td>...</td>\n",
       "      <td>1.00</td>\n",
       "      <td>1.0</td>\n",
       "      <td>2.0</td>\n",
       "      <td>0.000000</td>\n",
       "      <td>0.000000</td>\n",
       "      <td>0.0</td>\n",
       "      <td>0.00</td>\n",
       "      <td>0.0</td>\n",
       "      <td>0.00</td>\n",
       "      <td>0.0</td>\n",
       "    </tr>\n",
       "  </tbody>\n",
       "</table>\n",
       "<p>12 rows × 56 columns</p>\n",
       "</div>"
      ],
      "text/plain": [
       "                          NUMBER OF MEMBERS IN HOUSEHOLD                      \\\n",
       "                                                   count      mean       std   \n",
       "FOOD CONSUMPTION PATTERNS                                                      \n",
       "NON VEG                                             13.0  4.846154  1.625123   \n",
       "Non Veg                                             27.0  4.185185  2.000712   \n",
       "Non Vegetarian                                       8.0  4.000000  1.690309   \n",
       "Non veg                                             80.0  3.712500  1.780298   \n",
       "Non- Veg                                            10.0  3.600000  1.173788   \n",
       "Non-Veg                                              5.0  3.200000  1.483240   \n",
       "Non-veg                                              3.0  5.666667  3.785939   \n",
       "NonVeg                                               3.0  3.333333  0.577350   \n",
       "Nonveg                                               2.0  5.000000  2.828427   \n",
       "VEG                                                  2.0  5.000000  1.414214   \n",
       "Veg                                                 16.0  3.562500  0.813941   \n",
       "Vegetarian                                           2.0  3.500000  0.707107   \n",
       "\n",
       "                                                      AGE OF MEMBERS  \\\n",
       "                           min   25%  50%   75%   max          count   \n",
       "FOOD CONSUMPTION PATTERNS                                              \n",
       "NON VEG                    3.0  3.00  5.0  6.00   7.0           13.0   \n",
       "Non Veg                    1.0  3.00  4.0  5.50  10.0           27.0   \n",
       "Non Vegetarian             2.0  2.75  4.0  5.00   7.0            8.0   \n",
       "Non veg                    1.0  3.00  3.0  4.00  10.0           80.0   \n",
       "Non- Veg                   2.0  3.00  3.5  4.75   5.0           10.0   \n",
       "Non-Veg                    1.0  3.00  3.0  4.00   5.0            5.0   \n",
       "Non-veg                    3.0  3.50  4.0  7.00  10.0            3.0   \n",
       "NonVeg                     3.0  3.00  3.0  3.50   4.0            3.0   \n",
       "Nonveg                     3.0  4.00  5.0  6.00   7.0            2.0   \n",
       "VEG                        4.0  4.50  5.0  5.50   6.0            2.0   \n",
       "Veg                        2.0  3.00  4.0  4.00   5.0           16.0   \n",
       "Vegetarian                 3.0  3.25  3.5  3.75   4.0            2.0   \n",
       "\n",
       "                                      ... STUDYING CHILDREN       \\\n",
       "                                mean  ...               75%  max   \n",
       "FOOD CONSUMPTION PATTERNS             ...                          \n",
       "NON VEG                    39.769231  ...              2.00  3.0   \n",
       "Non Veg                    46.635802  ...              2.00  5.0   \n",
       "Non Vegetarian             42.786012  ...              1.25  2.0   \n",
       "Non veg                    39.543750  ...              2.00  4.0   \n",
       "Non- Veg                   46.300000  ...              1.00  2.0   \n",
       "Non-Veg                    33.150000  ...              1.00  1.0   \n",
       "Non-veg                    45.500000  ...              2.00  3.0   \n",
       "NonVeg                     40.000000  ...              0.50  1.0   \n",
       "Nonveg                     47.500000  ...              1.50  2.0   \n",
       "VEG                        39.500000  ...              1.75  2.0   \n",
       "Veg                        40.036458  ...              1.25  3.0   \n",
       "Vegetarian                 39.250000  ...              1.00  1.0   \n",
       "\n",
       "                          NON STUDYING CHILDREN                           \\\n",
       "                                          count      mean       std  min   \n",
       "FOOD CONSUMPTION PATTERNS                                                  \n",
       "NON VEG                                    13.0  0.307692  0.480384  0.0   \n",
       "Non Veg                                    27.0  0.333333  0.554700  0.0   \n",
       "Non Vegetarian                              8.0  0.125000  0.353553  0.0   \n",
       "Non veg                                    80.0  0.100000  0.301893  0.0   \n",
       "Non- Veg                                   10.0  0.100000  0.316228  0.0   \n",
       "Non-Veg                                     5.0  0.000000  0.000000  0.0   \n",
       "Non-veg                                     3.0  0.000000  0.000000  0.0   \n",
       "NonVeg                                      3.0  0.333333  0.577350  0.0   \n",
       "Nonveg                                      2.0  0.000000  0.000000  0.0   \n",
       "VEG                                         2.0  0.500000  0.707107  0.0   \n",
       "Veg                                        16.0  0.000000  0.000000  0.0   \n",
       "Vegetarian                                  2.0  0.000000  0.000000  0.0   \n",
       "\n",
       "                                                 \n",
       "                            25%  50%   75%  max  \n",
       "FOOD CONSUMPTION PATTERNS                        \n",
       "NON VEG                    0.00  0.0  1.00  1.0  \n",
       "Non Veg                    0.00  0.0  1.00  2.0  \n",
       "Non Vegetarian             0.00  0.0  0.00  1.0  \n",
       "Non veg                    0.00  0.0  0.00  1.0  \n",
       "Non- Veg                   0.00  0.0  0.00  1.0  \n",
       "Non-Veg                    0.00  0.0  0.00  0.0  \n",
       "Non-veg                    0.00  0.0  0.00  0.0  \n",
       "NonVeg                     0.00  0.0  0.50  1.0  \n",
       "Nonveg                     0.00  0.0  0.00  0.0  \n",
       "VEG                        0.25  0.5  0.75  1.0  \n",
       "Veg                        0.00  0.0  0.00  0.0  \n",
       "Vegetarian                 0.00  0.0  0.00  0.0  \n",
       "\n",
       "[12 rows x 56 columns]"
      ]
     },
     "execution_count": 72,
     "metadata": {},
     "output_type": "execute_result"
    }
   ],
   "source": [
    "Food_pattern.describe()\n",
    "#Here different keywords for Non veg is being taken as different values\n",
    "#Same apply to the veg\n",
    "#Using Regex we need to convert them into one two common values"
   ]
  },
  {
   "cell_type": "code",
   "execution_count": 73,
   "id": "2902582b",
   "metadata": {},
   "outputs": [],
   "source": [
    "data['FOOD CONSUMPTION PATTERNS']= data['FOOD CONSUMPTION PATTERNS'].replace([r'N[oO]...\\w+',r'^V[eE]\\w+'],['Non_Veg','Veg'],regex=True)"
   ]
  },
  {
   "cell_type": "code",
   "execution_count": 74,
   "id": "17253ec5",
   "metadata": {},
   "outputs": [
    {
     "data": {
      "text/html": [
       "<div>\n",
       "<style scoped>\n",
       "    .dataframe tbody tr th:only-of-type {\n",
       "        vertical-align: middle;\n",
       "    }\n",
       "\n",
       "    .dataframe tbody tr th {\n",
       "        vertical-align: top;\n",
       "    }\n",
       "\n",
       "    .dataframe thead tr th {\n",
       "        text-align: left;\n",
       "    }\n",
       "\n",
       "    .dataframe thead tr:last-of-type th {\n",
       "        text-align: right;\n",
       "    }\n",
       "</style>\n",
       "<table border=\"1\" class=\"dataframe\">\n",
       "  <thead>\n",
       "    <tr>\n",
       "      <th></th>\n",
       "      <th colspan=\"8\" halign=\"left\">NUMBER OF MEMBERS IN HOUSEHOLD</th>\n",
       "      <th colspan=\"2\" halign=\"left\">AGE OF MEMBERS</th>\n",
       "      <th>...</th>\n",
       "      <th colspan=\"2\" halign=\"left\">STUDYING CHILDREN</th>\n",
       "      <th colspan=\"8\" halign=\"left\">NON STUDYING CHILDREN</th>\n",
       "    </tr>\n",
       "    <tr>\n",
       "      <th></th>\n",
       "      <th>count</th>\n",
       "      <th>mean</th>\n",
       "      <th>std</th>\n",
       "      <th>min</th>\n",
       "      <th>25%</th>\n",
       "      <th>50%</th>\n",
       "      <th>75%</th>\n",
       "      <th>max</th>\n",
       "      <th>count</th>\n",
       "      <th>mean</th>\n",
       "      <th>...</th>\n",
       "      <th>75%</th>\n",
       "      <th>max</th>\n",
       "      <th>count</th>\n",
       "      <th>mean</th>\n",
       "      <th>std</th>\n",
       "      <th>min</th>\n",
       "      <th>25%</th>\n",
       "      <th>50%</th>\n",
       "      <th>75%</th>\n",
       "      <th>max</th>\n",
       "    </tr>\n",
       "    <tr>\n",
       "      <th>FOOD CONSUMPTION PATTERNS</th>\n",
       "      <th></th>\n",
       "      <th></th>\n",
       "      <th></th>\n",
       "      <th></th>\n",
       "      <th></th>\n",
       "      <th></th>\n",
       "      <th></th>\n",
       "      <th></th>\n",
       "      <th></th>\n",
       "      <th></th>\n",
       "      <th></th>\n",
       "      <th></th>\n",
       "      <th></th>\n",
       "      <th></th>\n",
       "      <th></th>\n",
       "      <th></th>\n",
       "      <th></th>\n",
       "      <th></th>\n",
       "      <th></th>\n",
       "      <th></th>\n",
       "      <th></th>\n",
       "    </tr>\n",
       "  </thead>\n",
       "  <tbody>\n",
       "    <tr>\n",
       "      <th>Non_Veg</th>\n",
       "      <td>151.0</td>\n",
       "      <td>3.933775</td>\n",
       "      <td>1.820875</td>\n",
       "      <td>1.0</td>\n",
       "      <td>3.0</td>\n",
       "      <td>4.0</td>\n",
       "      <td>5.0</td>\n",
       "      <td>10.0</td>\n",
       "      <td>151.0</td>\n",
       "      <td>41.471555</td>\n",
       "      <td>...</td>\n",
       "      <td>1.50</td>\n",
       "      <td>5.0</td>\n",
       "      <td>151.0</td>\n",
       "      <td>0.15894</td>\n",
       "      <td>0.384581</td>\n",
       "      <td>0.0</td>\n",
       "      <td>0.0</td>\n",
       "      <td>0.0</td>\n",
       "      <td>0.0</td>\n",
       "      <td>2.0</td>\n",
       "    </tr>\n",
       "    <tr>\n",
       "      <th>Veg</th>\n",
       "      <td>20.0</td>\n",
       "      <td>3.700000</td>\n",
       "      <td>0.923381</td>\n",
       "      <td>2.0</td>\n",
       "      <td>3.0</td>\n",
       "      <td>4.0</td>\n",
       "      <td>4.0</td>\n",
       "      <td>6.0</td>\n",
       "      <td>20.0</td>\n",
       "      <td>39.904167</td>\n",
       "      <td>...</td>\n",
       "      <td>1.25</td>\n",
       "      <td>3.0</td>\n",
       "      <td>20.0</td>\n",
       "      <td>0.05000</td>\n",
       "      <td>0.223607</td>\n",
       "      <td>0.0</td>\n",
       "      <td>0.0</td>\n",
       "      <td>0.0</td>\n",
       "      <td>0.0</td>\n",
       "      <td>1.0</td>\n",
       "    </tr>\n",
       "  </tbody>\n",
       "</table>\n",
       "<p>2 rows × 56 columns</p>\n",
       "</div>"
      ],
      "text/plain": [
       "                          NUMBER OF MEMBERS IN HOUSEHOLD                      \\\n",
       "                                                   count      mean       std   \n",
       "FOOD CONSUMPTION PATTERNS                                                      \n",
       "Non_Veg                                            151.0  3.933775  1.820875   \n",
       "Veg                                                 20.0  3.700000  0.923381   \n",
       "\n",
       "                                                    AGE OF MEMBERS             \\\n",
       "                           min  25%  50%  75%   max          count       mean   \n",
       "FOOD CONSUMPTION PATTERNS                                                       \n",
       "Non_Veg                    1.0  3.0  4.0  5.0  10.0          151.0  41.471555   \n",
       "Veg                        2.0  3.0  4.0  4.0   6.0           20.0  39.904167   \n",
       "\n",
       "                           ... STUDYING CHILDREN      NON STUDYING CHILDREN  \\\n",
       "                           ...               75%  max                 count   \n",
       "FOOD CONSUMPTION PATTERNS  ...                                                \n",
       "Non_Veg                    ...              1.50  5.0                 151.0   \n",
       "Veg                        ...              1.25  3.0                  20.0   \n",
       "\n",
       "                                                                       \n",
       "                              mean       std  min  25%  50%  75%  max  \n",
       "FOOD CONSUMPTION PATTERNS                                              \n",
       "Non_Veg                    0.15894  0.384581  0.0  0.0  0.0  0.0  2.0  \n",
       "Veg                        0.05000  0.223607  0.0  0.0  0.0  0.0  1.0  \n",
       "\n",
       "[2 rows x 56 columns]"
      ]
     },
     "execution_count": 74,
     "metadata": {},
     "output_type": "execute_result"
    }
   ],
   "source": [
    "data.groupby('FOOD CONSUMPTION PATTERNS').describe()\n",
    "#Total 171 values where replaced with proper words and two where null values"
   ]
  },
  {
   "cell_type": "code",
   "execution_count": 75,
   "id": "317404c6",
   "metadata": {},
   "outputs": [
    {
     "data": {
      "text/plain": [
       "<AxesSubplot:xlabel='FOOD CONSUMPTION PATTERNS', ylabel='count'>"
      ]
     },
     "execution_count": 75,
     "metadata": {},
     "output_type": "execute_result"
    },
    {
     "data": {
      "image/png": "[encoded data removed]",
      "text/plain": [
       "<Figure size 720x432 with 1 Axes>"
      ]
     },
     "metadata": {
      "needs_background": "light"
     },
     "output_type": "display_data"
    }
   ],
   "source": [
    "plt.figure(figsize=(10,6))\n",
    "sns.countplot(x=data['FOOD CONSUMPTION PATTERNS'])\n",
    "#Majority of people are Non-Vegetarian"
   ]
  },
  {
   "cell_type": "code",
   "execution_count": 76,
   "id": "08af370d",
   "metadata": {},
   "outputs": [
    {
     "data": {
      "text/plain": [
       "<AxesSubplot:xlabel='AGE OF MEMBERS', ylabel='Count'>"
      ]
     },
     "execution_count": 76,
     "metadata": {},
     "output_type": "execute_result"
    },
    {
     "data": {
      "image/png": "[encoded data removed]",
      "text/plain": [
       "<Figure size 720x432 with 1 Axes>"
      ]
     },
     "metadata": {
      "needs_background": "light"
     },
     "output_type": "display_data"
    }
   ],
   "source": [
    "plt.figure(figsize=(10,6))\n",
    "sns.histplot(x=data['AGE OF MEMBERS'],kde=True,hue=data['FOOD CONSUMPTION PATTERNS'],palette=\"brg_r\")\n",
    "#Majority of the population is in the range of 35 to 45\n",
    "#Majority of the are Non-Vegetarian"
   ]
  },
  {
   "cell_type": "markdown",
   "id": "1a6c9ee4",
   "metadata": {},
   "source": [
    "## New DataFrame for Analysis on Income and Expenditure Pattern"
   ]
  },
  {
   "cell_type": "code",
   "execution_count": 77,
   "id": "4a0d4b4f",
   "metadata": {},
   "outputs": [],
   "source": [
    "income_exp = pd.DataFrame({'Income':data['AVG HOUSEHOLD INCOME'],'Expenditure':data['EXPENDITURES']})"
   ]
  },
  {
   "cell_type": "code",
   "execution_count": 78,
   "id": "8b1095b6",
   "metadata": {},
   "outputs": [],
   "source": [
    "income_exp.dropna(inplace=True)"
   ]
  },
  {
   "cell_type": "code",
   "execution_count": 79,
   "id": "128fb718",
   "metadata": {},
   "outputs": [
    {
     "data": {
      "text/plain": [
       "Income         0\n",
       "Expenditure    0\n",
       "dtype: int64"
      ]
     },
     "execution_count": 79,
     "metadata": {},
     "output_type": "execute_result"
    }
   ],
   "source": [
    "income_exp.isna().sum()"
   ]
  },
  {
   "cell_type": "code",
   "execution_count": 80,
   "id": "52c68f39",
   "metadata": {},
   "outputs": [
    {
     "name": "stdout",
     "output_type": "stream",
     "text": [
      "<class 'pandas.core.frame.DataFrame'>\n",
      "Int64Index: 172 entries, 0 to 172\n",
      "Data columns (total 2 columns):\n",
      " #   Column       Non-Null Count  Dtype \n",
      "---  ------       --------------  ----- \n",
      " 0   Income       172 non-null    object\n",
      " 1   Expenditure  172 non-null    object\n",
      "dtypes: object(2)\n",
      "memory usage: 4.0+ KB\n"
     ]
    }
   ],
   "source": [
    "income_exp.info()\n",
    "#Need to convert string into int type"
   ]
  },
  {
   "cell_type": "code",
   "execution_count": 81,
   "id": "ff52990f",
   "metadata": {},
   "outputs": [],
   "source": [
    "income_exp['Expenditure'] = income_exp['Expenditure'].replace([r'[-]','k'],[',',''],regex=True)\n",
    "#Replace all the - symbol with , to apply get mean function\n",
    "#Replace all the k with blank to convert the values into int datatype"
   ]
  },
  {
   "cell_type": "code",
   "execution_count": 82,
   "id": "cee6e459",
   "metadata": {},
   "outputs": [],
   "source": [
    "#Removing the Non-veg keyword from the Expenditure column\n",
    "income_exp['Expenditure'] = income_exp['Expenditure'].replace(r'N[oO]...\\w+',0,regex=True)"
   ]
  },
  {
   "cell_type": "code",
   "execution_count": 83,
   "id": "404b3d2c",
   "metadata": {},
   "outputs": [],
   "source": [
    "# converting all the values into string\n",
    "income_exp['Expenditure'] = income_exp['Expenditure'].astype(str)"
   ]
  },
  {
   "cell_type": "code",
   "execution_count": 84,
   "id": "09429e2a",
   "metadata": {},
   "outputs": [],
   "source": [
    "income_exp['Expenditure'] = income_exp['Expenditure'].apply(get_mean)"
   ]
  },
  {
   "cell_type": "code",
   "execution_count": 85,
   "id": "d98f1ef5",
   "metadata": {},
   "outputs": [
    {
     "data": {
      "text/plain": [
       "dtype('float64')"
      ]
     },
     "execution_count": 85,
     "metadata": {},
     "output_type": "execute_result"
    }
   ],
   "source": [
    "income_exp['Expenditure'].dtype"
   ]
  },
  {
   "cell_type": "code",
   "execution_count": 86,
   "id": "1b530837",
   "metadata": {},
   "outputs": [],
   "source": [
    "income_exp['Income'] = income_exp['Income'].astype(int)"
   ]
  },
  {
   "cell_type": "code",
   "execution_count": 87,
   "id": "a4cf5c2e",
   "metadata": {},
   "outputs": [],
   "source": [
    "correlatn = income_exp['Income'].corr(income_exp['Expenditure'])"
   ]
  },
  {
   "cell_type": "code",
   "execution_count": 88,
   "id": "388c2ac8",
   "metadata": {},
   "outputs": [
    {
     "data": {
      "text/plain": [
       "<AxesSubplot:title={'center':'Income vs Expenditure Correlation:0.83'}, xlabel='Expenditure', ylabel='Income'>"
      ]
     },
     "execution_count": 88,
     "metadata": {},
     "output_type": "execute_result"
    },
    {
     "data": {
      "image/png": "[encoded data removed]",
      "text/plain": [
       "<Figure size 720x432 with 1 Axes>"
      ]
     },
     "metadata": {
      "needs_background": "light"
     },
     "output_type": "display_data"
    }
   ],
   "source": [
    "plt.figure(figsize=(10,6))\n",
    "plt.title(f'Income vs Expenditure Correlation:{round(correlatn,2)}',fontsize=15)\n",
    "plt.xlabel('Expenditure',fontsize=15)\n",
    "plt.ylabel('Income',fontsize=15)\n",
    "sns.scatterplot(x=income_exp['Expenditure'],y=income_exp['Income'],color='#143F6B',s=55,alpha=0.6)\n"
   ]
  },
  {
   "cell_type": "code",
   "execution_count": 89,
   "id": "2a552146",
   "metadata": {},
   "outputs": [
    {
     "data": {
      "text/plain": [
       "0.11645463042716757"
      ]
     },
     "execution_count": 89,
     "metadata": {},
     "output_type": "execute_result"
    }
   ],
   "source": [
    "#There is no relation between Income and No of Family members\n",
    "income_exp['Income'].corr(data['NUMBER OF MEMBERS IN HOUSEHOLD'])"
   ]
  },
  {
   "cell_type": "code",
   "execution_count": 90,
   "id": "35a6948b",
   "metadata": {},
   "outputs": [
    {
     "data": {
      "text/plain": [
       "ANY PREDOMINANT AILMENT           28\n",
       "NUMBER OF MEMBERS IN HOUSEHOLD     0\n",
       "dtype: int64"
      ]
     },
     "execution_count": 90,
     "metadata": {},
     "output_type": "execute_result"
    }
   ],
   "source": [
    "data[['ANY PREDOMINANT AILMENT','NUMBER OF MEMBERS IN HOUSEHOLD']].isna().sum()"
   ]
  },
  {
   "cell_type": "code",
   "execution_count": 91,
   "id": "58282de8",
   "metadata": {},
   "outputs": [],
   "source": [
    "Ailment = pd.DataFrame({'Ailment':data['ANY PREDOMINANT AILMENT'].dropna()})"
   ]
  },
  {
   "cell_type": "code",
   "execution_count": 92,
   "id": "b5026d01",
   "metadata": {},
   "outputs": [
    {
     "data": {
      "text/html": [
       "<div>\n",
       "<style scoped>\n",
       "    .dataframe tbody tr th:only-of-type {\n",
       "        vertical-align: middle;\n",
       "    }\n",
       "\n",
       "    .dataframe tbody tr th {\n",
       "        vertical-align: top;\n",
       "    }\n",
       "\n",
       "    .dataframe thead th {\n",
       "        text-align: right;\n",
       "    }\n",
       "</style>\n",
       "<table border=\"1\" class=\"dataframe\">\n",
       "  <thead>\n",
       "    <tr style=\"text-align: right;\">\n",
       "      <th></th>\n",
       "      <th>index</th>\n",
       "      <th>Ailment</th>\n",
       "    </tr>\n",
       "  </thead>\n",
       "  <tbody>\n",
       "    <tr>\n",
       "      <th>0</th>\n",
       "      <td>0</td>\n",
       "      <td>Type-1 Diabetes</td>\n",
       "    </tr>\n",
       "    <tr>\n",
       "      <th>1</th>\n",
       "      <td>2</td>\n",
       "      <td>Type-2 Diabetes</td>\n",
       "    </tr>\n",
       "    <tr>\n",
       "      <th>2</th>\n",
       "      <td>3</td>\n",
       "      <td>Diabetes</td>\n",
       "    </tr>\n",
       "    <tr>\n",
       "      <th>3</th>\n",
       "      <td>5</td>\n",
       "      <td>Diabetes</td>\n",
       "    </tr>\n",
       "    <tr>\n",
       "      <th>4</th>\n",
       "      <td>7</td>\n",
       "      <td>No</td>\n",
       "    </tr>\n",
       "    <tr>\n",
       "      <th>...</th>\n",
       "      <td>...</td>\n",
       "      <td>...</td>\n",
       "    </tr>\n",
       "    <tr>\n",
       "      <th>140</th>\n",
       "      <td>162</td>\n",
       "      <td>No</td>\n",
       "    </tr>\n",
       "    <tr>\n",
       "      <th>141</th>\n",
       "      <td>163</td>\n",
       "      <td>Sugar</td>\n",
       "    </tr>\n",
       "    <tr>\n",
       "      <th>142</th>\n",
       "      <td>164</td>\n",
       "      <td>Diabetes</td>\n",
       "    </tr>\n",
       "    <tr>\n",
       "      <th>143</th>\n",
       "      <td>165</td>\n",
       "      <td>No</td>\n",
       "    </tr>\n",
       "    <tr>\n",
       "      <th>144</th>\n",
       "      <td>166</td>\n",
       "      <td>Sugar</td>\n",
       "    </tr>\n",
       "  </tbody>\n",
       "</table>\n",
       "<p>145 rows × 2 columns</p>\n",
       "</div>"
      ],
      "text/plain": [
       "     index          Ailment\n",
       "0        0  Type-1 Diabetes\n",
       "1        2  Type-2 Diabetes\n",
       "2        3         Diabetes\n",
       "3        5         Diabetes\n",
       "4        7               No\n",
       "..     ...              ...\n",
       "140    162               No\n",
       "141    163            Sugar\n",
       "142    164         Diabetes\n",
       "143    165               No\n",
       "144    166            Sugar\n",
       "\n",
       "[145 rows x 2 columns]"
      ]
     },
     "execution_count": 92,
     "metadata": {},
     "output_type": "execute_result"
    }
   ],
   "source": [
    "Ailment.reset_index()"
   ]
  },
  {
   "cell_type": "code",
   "execution_count": 93,
   "id": "6abcbd03",
   "metadata": {},
   "outputs": [],
   "source": [
    "#No of people suffering from diabetes\n",
    "Diabetes = Ailment[Ailment['Ailment'].str.match('[dD]\\w+|Sugar')].count()"
   ]
  },
  {
   "cell_type": "code",
   "execution_count": 94,
   "id": "20e2341d",
   "metadata": {},
   "outputs": [
    {
     "data": {
      "text/plain": [
       "43"
      ]
     },
     "execution_count": 94,
     "metadata": {},
     "output_type": "execute_result"
    }
   ],
   "source": [
    "Diabetes[0]"
   ]
  },
  {
   "cell_type": "code",
   "execution_count": 95,
   "id": "4cf026b2",
   "metadata": {
    "scrolled": true
   },
   "outputs": [
    {
     "data": {
      "text/plain": [
       "None          52\n",
       "Diabetes      31\n",
       "No            21\n",
       "Joint pain     3\n",
       "Arthritis      3\n",
       "Name: ANY PREDOMINANT AILMENT, dtype: int64"
      ]
     },
     "execution_count": 95,
     "metadata": {},
     "output_type": "execute_result"
    }
   ],
   "source": [
    "data['ANY PREDOMINANT AILMENT'].value_counts().head(5)"
   ]
  },
  {
   "cell_type": "code",
   "execution_count": 96,
   "id": "8078c52a",
   "metadata": {},
   "outputs": [
    {
     "data": {
      "text/plain": [
       "Ailment    0.296552\n",
       "dtype: float64"
      ]
     },
     "execution_count": 96,
     "metadata": {},
     "output_type": "execute_result"
    }
   ],
   "source": [
    "#Majority of People are suffering from Diabetes 29% people.\n",
    "Diabetes[0]/Ailment.count()"
   ]
  },
  {
   "cell_type": "code",
   "execution_count": 97,
   "id": "9be3ab96",
   "metadata": {},
   "outputs": [
    {
     "data": {
      "text/html": [
       "<div>\n",
       "<style scoped>\n",
       "    .dataframe tbody tr th:only-of-type {\n",
       "        vertical-align: middle;\n",
       "    }\n",
       "\n",
       "    .dataframe tbody tr th {\n",
       "        vertical-align: top;\n",
       "    }\n",
       "\n",
       "    .dataframe thead th {\n",
       "        text-align: right;\n",
       "    }\n",
       "</style>\n",
       "<table border=\"1\" class=\"dataframe\">\n",
       "  <thead>\n",
       "    <tr style=\"text-align: right;\">\n",
       "      <th></th>\n",
       "      <th>HOUSEHOLD ASSETS</th>\n",
       "      <th>AVAILABILITY OF SMART DEVICES</th>\n",
       "      <th>SOURCES OF WATER</th>\n",
       "    </tr>\n",
       "  </thead>\n",
       "  <tbody>\n",
       "    <tr>\n",
       "      <th>0</th>\n",
       "      <td>TV, FRIDGE, AC, WM, 2W</td>\n",
       "      <td>Computer, Laptop, SmartPhone</td>\n",
       "      <td>DeepTW</td>\n",
       "    </tr>\n",
       "    <tr>\n",
       "      <th>1</th>\n",
       "      <td>TV, AC, FRIDGE, WM, 4W</td>\n",
       "      <td>Computer, Smartphone</td>\n",
       "      <td>DeepTW</td>\n",
       "    </tr>\n",
       "    <tr>\n",
       "      <th>2</th>\n",
       "      <td>TV, FRIDGE, WM</td>\n",
       "      <td>Laptop, Smartphone</td>\n",
       "      <td>Tap</td>\n",
       "    </tr>\n",
       "    <tr>\n",
       "      <th>3</th>\n",
       "      <td>TV, FRIDGE, WM, 2W, Geyser, kitchen chimney</td>\n",
       "      <td>Computer, Laptop, Smartphone</td>\n",
       "      <td>Tap</td>\n",
       "    </tr>\n",
       "    <tr>\n",
       "      <th>4</th>\n",
       "      <td>TV AC WM FRIDGE 4W</td>\n",
       "      <td>Laptop smartphone</td>\n",
       "      <td>Tap</td>\n",
       "    </tr>\n",
       "    <tr>\n",
       "      <th>...</th>\n",
       "      <td>...</td>\n",
       "      <td>...</td>\n",
       "      <td>...</td>\n",
       "    </tr>\n",
       "    <tr>\n",
       "      <th>168</th>\n",
       "      <td>Tv ,Refrigerator, Washing machine</td>\n",
       "      <td>Smartphone, Laptop</td>\n",
       "      <td>Tap water</td>\n",
       "    </tr>\n",
       "    <tr>\n",
       "      <th>169</th>\n",
       "      <td>Tv Refrigerator Washing machine,Air conditioner</td>\n",
       "      <td>Tv, Alexa , Smartphone, Laptop</td>\n",
       "      <td>Package Drinking water</td>\n",
       "    </tr>\n",
       "    <tr>\n",
       "      <th>170</th>\n",
       "      <td>TV, Refrigerator</td>\n",
       "      <td>Smartphone,PC</td>\n",
       "      <td>Tap water</td>\n",
       "    </tr>\n",
       "    <tr>\n",
       "      <th>171</th>\n",
       "      <td>Tv</td>\n",
       "      <td>Smartphone</td>\n",
       "      <td>Deep water,Tap water</td>\n",
       "    </tr>\n",
       "    <tr>\n",
       "      <th>172</th>\n",
       "      <td>Tv, Refrigerator</td>\n",
       "      <td>Smartphone</td>\n",
       "      <td>Tap water</td>\n",
       "    </tr>\n",
       "  </tbody>\n",
       "</table>\n",
       "<p>173 rows × 3 columns</p>\n",
       "</div>"
      ],
      "text/plain": [
       "                                    HOUSEHOLD ASSETS  \\\n",
       "0                             TV, FRIDGE, AC, WM, 2W   \n",
       "1                             TV, AC, FRIDGE, WM, 4W   \n",
       "2                                     TV, FRIDGE, WM   \n",
       "3        TV, FRIDGE, WM, 2W, Geyser, kitchen chimney   \n",
       "4                                 TV AC WM FRIDGE 4W   \n",
       "..                                               ...   \n",
       "168                Tv ,Refrigerator, Washing machine   \n",
       "169  Tv Refrigerator Washing machine,Air conditioner   \n",
       "170                                 TV, Refrigerator   \n",
       "171                                               Tv   \n",
       "172                                 Tv, Refrigerator   \n",
       "\n",
       "      AVAILABILITY OF SMART DEVICES        SOURCES OF WATER  \n",
       "0      Computer, Laptop, SmartPhone                  DeepTW  \n",
       "1              Computer, Smartphone                  DeepTW  \n",
       "2                Laptop, Smartphone                     Tap  \n",
       "3      Computer, Laptop, Smartphone                     Tap  \n",
       "4                 Laptop smartphone                     Tap  \n",
       "..                              ...                     ...  \n",
       "168              Smartphone, Laptop               Tap water  \n",
       "169  Tv, Alexa , Smartphone, Laptop  Package Drinking water  \n",
       "170                   Smartphone,PC               Tap water  \n",
       "171                      Smartphone    Deep water,Tap water  \n",
       "172                      Smartphone               Tap water  \n",
       "\n",
       "[173 rows x 3 columns]"
      ]
     },
     "execution_count": 97,
     "metadata": {},
     "output_type": "execute_result"
    }
   ],
   "source": [
    "data[['HOUSEHOLD ASSETS','AVAILABILITY OF SMART DEVICES','SOURCES OF WATER']]"
   ]
  },
  {
   "cell_type": "code",
   "execution_count": 98,
   "id": "23f71ab2",
   "metadata": {},
   "outputs": [],
   "source": [
    "data['SOURCES OF WATER']= data['SOURCES OF WATER'].str.replace(r'Corp$','Corporation water',regex=True)\n"
   ]
  },
  {
   "cell_type": "code",
   "execution_count": 99,
   "id": "f14bc5bb",
   "metadata": {},
   "outputs": [
    {
     "data": {
      "text/plain": [
       "<AxesSubplot:title={'center':'Top 5 sources of water'}>"
      ]
     },
     "execution_count": 99,
     "metadata": {},
     "output_type": "execute_result"
    },
    {
     "data": {
      "image/png": "[encoded data removed]",
      "text/plain": [
       "<Figure size 432x432 with 1 Axes>"
      ]
     },
     "metadata": {},
     "output_type": "display_data"
    }
   ],
   "source": [
    "data['SOURCES OF WATER'].value_counts().head(5).plot(kind='pie',figsize=(6,6),ylabel='',\n",
    "                                                     title='Top 5 sources of water',fontsize=12,colormap='plasma')"
   ]
  },
  {
   "cell_type": "code",
   "execution_count": 100,
   "id": "81e85151",
   "metadata": {},
   "outputs": [
    {
     "data": {
      "text/plain": [
       "<AxesSubplot:ylabel='AVAILABILITY OF SMART DEVICES'>"
      ]
     },
     "execution_count": 100,
     "metadata": {},
     "output_type": "execute_result"
    },
    {
     "data": {
      "image/png": "[encoded data removed]",
      "text/plain": [
       "<Figure size 432x288 with 1 Axes>"
      ]
     },
     "metadata": {},
     "output_type": "display_data"
    }
   ],
   "source": [
    "data['AVAILABILITY OF SMART DEVICES'].value_counts().head(5).plot(kind='pie')"
   ]
  },
  {
   "cell_type": "code",
   "execution_count": 101,
   "id": "b96aad97",
   "metadata": {},
   "outputs": [
    {
     "data": {
      "text/plain": [
       "<AxesSubplot:xlabel='ACCESS TO INTERNET', ylabel='count'>"
      ]
     },
     "execution_count": 101,
     "metadata": {},
     "output_type": "execute_result"
    },
    {
     "data": {
      "image/png": "[encoded data removed]",
      "text/plain": [
       "<Figure size 432x288 with 1 Axes>"
      ]
     },
     "metadata": {
      "needs_background": "light"
     },
     "output_type": "display_data"
    }
   ],
   "source": [
    "sns.countplot(x=data['ACCESS TO INTERNET'])\n"
   ]
  },
  {
   "cell_type": "code",
   "execution_count": 102,
   "id": "46baab70",
   "metadata": {},
   "outputs": [],
   "source": [
    "data['AVG HOUSEHOLD INCOME'] = income_exp['Income']\n",
    "data['EXPENDITURES'] = income_exp['Expenditure']"
   ]
  },
  {
   "cell_type": "code",
   "execution_count": 103,
   "id": "482d0745",
   "metadata": {},
   "outputs": [],
   "source": [
    "#data.to_csv('Clean_NICA_data.csv')"
   ]
  },
  {
   "cell_type": "markdown",
   "id": "6f904a64",
   "metadata": {},
   "source": [
    "## Income Prediction using Linear Regression"
   ]
  },
  {
   "cell_type": "code",
   "execution_count": 104,
   "id": "42408a1b",
   "metadata": {},
   "outputs": [],
   "source": [
    "model = LinearRegression()\n",
    "X = pd.DataFrame(income_exp,columns =['Expenditure'])\n",
    "y= pd.DataFrame(income_exp,columns=['Income'])"
   ]
  },
  {
   "cell_type": "code",
   "execution_count": 105,
   "id": "6fb0578d",
   "metadata": {},
   "outputs": [],
   "source": [
    "X_train, X_test, y_train, y_test = train_test_split(X,y,test_size=0.3,random_state=5)"
   ]
  },
  {
   "cell_type": "code",
   "execution_count": 106,
   "id": "a1a78bee",
   "metadata": {},
   "outputs": [
    {
     "data": {
      "text/plain": [
       "LinearRegression()"
      ]
     },
     "execution_count": 106,
     "metadata": {},
     "output_type": "execute_result"
    }
   ],
   "source": [
    "model.fit(X_train,y_train)"
   ]
  },
  {
   "cell_type": "code",
   "execution_count": 107,
   "id": "4bcac087",
   "metadata": {},
   "outputs": [
    {
     "data": {
      "text/plain": [
       "0.6086598807424626"
      ]
     },
     "execution_count": 107,
     "metadata": {},
     "output_type": "execute_result"
    }
   ],
   "source": [
    "model.score(X_test,y_test)"
   ]
  },
  {
   "cell_type": "code",
   "execution_count": 108,
   "id": "455ba1dc",
   "metadata": {},
   "outputs": [
    {
     "data": {
      "text/plain": [
       "array([0.14975684, 0.14438623, 0.65894918, 0.807421  , 0.77143918])"
      ]
     },
     "execution_count": 108,
     "metadata": {},
     "output_type": "execute_result"
    }
   ],
   "source": [
    "#Due to the high skewness present in the data Some of the folds giving poor accuracy\n",
    "cross_val_score(model,X,y,cv=5)"
   ]
  },
  {
   "cell_type": "code",
   "execution_count": 109,
   "id": "3c70fcec",
   "metadata": {},
   "outputs": [
    {
     "data": {
      "text/plain": [
       "Income         2.966358\n",
       "Expenditure    2.817364\n",
       "dtype: float64"
      ]
     },
     "execution_count": 109,
     "metadata": {},
     "output_type": "execute_result"
    }
   ],
   "source": [
    "income_exp.skew()"
   ]
  },
  {
   "cell_type": "code",
   "execution_count": 110,
   "id": "1a5f646e",
   "metadata": {},
   "outputs": [
    {
     "data": {
      "text/plain": [
       "Text(0.5, 1.0, 'Expenditure Data dtribution, skew:2.82')"
      ]
     },
     "execution_count": 110,
     "metadata": {},
     "output_type": "execute_result"
    },
    {
     "data": {
      "image/png": "[encoded data removed]",
      "text/plain": [
       "<Figure size 1080x432 with 2 Axes>"
      ]
     },
     "metadata": {
      "needs_background": "light"
     },
     "output_type": "display_data"
    }
   ],
   "source": [
    "fig, ax = plt.subplots(1,2,figsize=(15,6))\n",
    "sns.histplot(income_exp['Income'],ax=ax[0],color='#44bd32')\n",
    "ax[0].set_title(f'Income Data Distribution, skew:{round(income_exp.skew()[0],2)}')\n",
    "\n",
    "\n",
    "sns.histplot(income_exp['Expenditure'],ax=ax[1],color='#e84118')\n",
    "ax[1].set_title(f'Expenditure Data dtribution, skew:{round(income_exp.skew()[1],2)}')"
   ]
  },
  {
   "cell_type": "markdown",
   "id": "de993aa1",
   "metadata": {},
   "source": [
    "#### The Data is very much skewed to the right, to normalise:\n",
    "* Need to Remove the Outliers\n",
    "* Use Log values for Income"
   ]
  },
  {
   "cell_type": "code",
   "execution_count": 111,
   "id": "ed9068b6",
   "metadata": {},
   "outputs": [
    {
     "data": {
      "text/plain": [
       "26     85000.0\n",
       "23     85000.0\n",
       "131    85000.0\n",
       "97     80000.0\n",
       "100    80000.0\n",
       "21     80000.0\n",
       "158    75000.0\n",
       "95     70000.0\n",
       "142    70000.0\n",
       "18     70000.0\n",
       "Name: Expenditure, dtype: float64"
      ]
     },
     "execution_count": 111,
     "metadata": {},
     "output_type": "execute_result"
    }
   ],
   "source": [
    "X = pd.DataFrame(income_exp['Expenditure'].loc[income_exp['Expenditure']<100000])[0:164]\n",
    "X['Expenditure'].sort_values(ascending=False)[:10]"
   ]
  },
  {
   "cell_type": "code",
   "execution_count": 112,
   "id": "f79f55d6",
   "metadata": {},
   "outputs": [],
   "source": [
    "y_log = pd.DataFrame(np.log(income_exp['Income'].loc[income_exp['Income']<120000]))\n",
    "y['Income'].sort_values(ascending=False)[:10]\n",
    "y = income_exp['Income'].loc[income_exp['Income']<120000]"
   ]
  },
  {
   "cell_type": "code",
   "execution_count": 137,
   "id": "64c73fe4",
   "metadata": {},
   "outputs": [
    {
     "data": {
      "text/plain": [
       "<AxesSubplot:title={'center':'-0.710740085277489'}, xlabel='Income', ylabel='Count'>"
      ]
     },
     "execution_count": 137,
     "metadata": {},
     "output_type": "execute_result"
    },
    {
     "data": {
      "image/png": "[encoded data removed]",
      "text/plain": [
       "<Figure size 432x288 with 1 Axes>"
      ]
     },
     "metadata": {
      "needs_background": "light"
     },
     "output_type": "display_data"
    }
   ],
   "source": [
    "plt.title(f'{y_log.skew()[0]}')\n",
    "sns.histplot(y,kde=True)\n"
   ]
  },
  {
   "cell_type": "code",
   "execution_count": 114,
   "id": "7e4b40c5",
   "metadata": {},
   "outputs": [],
   "source": [
    "X_train, X_test, y_train, y_test = train_test_split(X,y,test_size=0.2)"
   ]
  },
  {
   "cell_type": "code",
   "execution_count": 115,
   "id": "9432791c",
   "metadata": {},
   "outputs": [],
   "source": [
    "log_model = LinearRegression()"
   ]
  },
  {
   "cell_type": "code",
   "execution_count": 116,
   "id": "4b395bd1",
   "metadata": {},
   "outputs": [
    {
     "data": {
      "text/plain": [
       "LinearRegression()"
      ]
     },
     "execution_count": 116,
     "metadata": {},
     "output_type": "execute_result"
    }
   ],
   "source": [
    "log_model.fit(X_train,y_train)"
   ]
  },
  {
   "cell_type": "code",
   "execution_count": 117,
   "id": "4ff45834",
   "metadata": {},
   "outputs": [
    {
     "data": {
      "text/plain": [
       "0.008693939318201616"
      ]
     },
     "execution_count": 117,
     "metadata": {},
     "output_type": "execute_result"
    }
   ],
   "source": [
    "log_model.score(X_test,y_test)"
   ]
  },
  {
   "cell_type": "code",
   "execution_count": 118,
   "id": "67be9641",
   "metadata": {},
   "outputs": [
    {
     "data": {
      "text/plain": [
       "array([ 0.18180138, -0.01051983,  0.16671177,  0.17686994, -0.32569842])"
      ]
     },
     "execution_count": 118,
     "metadata": {},
     "output_type": "execute_result"
    }
   ],
   "source": [
    "cross_val_score(log_model,X,y)"
   ]
  },
  {
   "cell_type": "markdown",
   "id": "d48494b9",
   "metadata": {},
   "source": [
    "# Different Machine Learning Algo Performances"
   ]
  },
  {
   "cell_type": "code",
   "execution_count": 128,
   "id": "828ecd24",
   "metadata": {},
   "outputs": [],
   "source": [
    "from sklearn.tree import DecisionTreeRegressor\n",
    "from sklearn.ensemble import RandomForestRegressor"
   ]
  },
  {
   "cell_type": "code",
   "execution_count": 120,
   "id": "2a2acfc3",
   "metadata": {},
   "outputs": [],
   "source": [
    "Tree_model = DecisionTreeRegressor()"
   ]
  },
  {
   "cell_type": "code",
   "execution_count": 127,
   "id": "c009fe48",
   "metadata": {},
   "outputs": [
    {
     "data": {
      "text/plain": [
       "array([-0.21002587, -0.64543418, -0.95100295, -0.73768704, -0.53508989])"
      ]
     },
     "execution_count": 127,
     "metadata": {},
     "output_type": "execute_result"
    }
   ],
   "source": [
    "cross_val_score(Tree_model,X,y)"
   ]
  },
  {
   "cell_type": "code",
   "execution_count": 129,
   "id": "fdddb3a6",
   "metadata": {},
   "outputs": [],
   "source": [
    "forest_model = RandomForestRegressor()"
   ]
  },
  {
   "cell_type": "code",
   "execution_count": 131,
   "id": "656636fa",
   "metadata": {},
   "outputs": [
    {
     "data": {
      "text/plain": [
       "array([ 0.00664996, -0.34424228, -0.45626214, -0.33088361, -0.53502274])"
      ]
     },
     "execution_count": 131,
     "metadata": {},
     "output_type": "execute_result"
    }
   ],
   "source": [
    "cross_val_score(forest_model,X,y)"
   ]
  },
  {
   "cell_type": "code",
   "execution_count": null,
   "id": "7ba9980b",
   "metadata": {},
   "outputs": [],
   "source": []
  }
 ],
 "metadata": {
  "kernelspec": {
   "display_name": "Python 3",
   "language": "python",
   "name": "python3"
  },
  "language_info": {
   "codemirror_mode": {
    "name": "ipython",
    "version": 3
   },
   "file_extension": ".py",
   "mimetype": "text/x-python",
   "name": "python",
   "nbconvert_exporter": "python",
   "pygments_lexer": "ipython3",
   "version": "3.8.8"
  }
 },
 "nbformat": 4,
 "nbformat_minor": 5
}
